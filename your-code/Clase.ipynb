{
 "cells": [
  {
   "cell_type": "code",
   "execution_count": 5,
   "id": "91ad9f0b-fa82-4ccc-a8c7-2defc9ae64b3",
   "metadata": {},
   "outputs": [],
   "source": [
    "import numpy as np\n",
    "import scipy\n",
    "import scipy.stats\n",
    "from scipy.special import comb, perm\n",
    "from scipy.interpolate.polyint import factorial"
   ]
  },
  {
   "cell_type": "code",
   "execution_count": 6,
   "id": "3c22bf2f-4ebe-436c-9809-5999cd790986",
   "metadata": {},
   "outputs": [
    {
     "data": {
      "text/plain": [
       "1.0"
      ]
     },
     "execution_count": 6,
     "metadata": {},
     "output_type": "execute_result"
    }
   ],
   "source": [
    "factorial(0)"
   ]
  },
  {
   "cell_type": "code",
   "execution_count": 8,
   "id": "35b99ca8-fa0d-4a10-9586-df7fcf226053",
   "metadata": {},
   "outputs": [
    {
     "name": "stdout",
     "output_type": "stream",
     "text": [
      "5040.0\n",
      "5040.0\n"
     ]
    }
   ],
   "source": [
    "# son 10 letras y voy a permutarlas en permutaciones de 4\n",
    "\n",
    "\n",
    "n = 10\n",
    "k = 4\n",
    "print(factorial(n)/factorial(n-k))\n",
    "print(perm(n,k))"
   ]
  },
  {
   "cell_type": "code",
   "execution_count": 13,
   "id": "3f0aa735-0dd2-4316-8182-1439e604018c",
   "metadata": {},
   "outputs": [
    {
     "data": {
      "text/plain": [
       "4106246912127360.0"
      ]
     },
     "execution_count": 13,
     "metadata": {},
     "output_type": "execute_result"
    }
   ],
   "source": [
    "#ejemplo de una contraseña real de 8 dígitos alfanuméricos: 24 letras + 10 numeros\n",
    "perm(34,8)\n",
    "\n",
    "#ahora con minusculas 24+24+20\n",
    "perm(58,8)\n",
    "\n",
    "#+ simbolos\n",
    "perm(93,8)\n"
   ]
  },
  {
   "cell_type": "code",
   "execution_count": 16,
   "id": "d8fb8f15-e4e5-41f4-b328-3095835a1d49",
   "metadata": {},
   "outputs": [
    {
     "data": {
      "text/plain": [
       "5595818096650401"
      ]
     },
     "execution_count": 16,
     "metadata": {},
     "output_type": "execute_result"
    }
   ],
   "source": [
    "#permitiendo repetición fómula es igual a n^k\n",
    "93**8"
   ]
  },
  {
   "cell_type": "code",
   "execution_count": 19,
   "id": "600b940c-d35c-4a61-9b2a-af0c0f882aa9",
   "metadata": {},
   "outputs": [
    {
     "data": {
      "text/plain": [
       "10.0"
      ]
     },
     "execution_count": 19,
     "metadata": {},
     "output_type": "execute_result"
    }
   ],
   "source": [
    "#combinaciones\n",
    "\n",
    "#a b c d tomando de 2 en 2\n",
    "\n",
    "comb(4,2)\n",
    "\n",
    "#con repeticion\n",
    "comb(4,2, repetition=True)"
   ]
  },
  {
   "cell_type": "code",
   "execution_count": null,
   "id": "98494a46-984b-49dc-bd11-258290356b8e",
   "metadata": {},
   "outputs": [],
   "source": []
  }
 ],
 "metadata": {
  "kernelspec": {
   "display_name": "Python 3 (ipykernel)",
   "language": "python",
   "name": "python3"
  },
  "language_info": {
   "codemirror_mode": {
    "name": "ipython",
    "version": 3
   },
   "file_extension": ".py",
   "mimetype": "text/x-python",
   "name": "python",
   "nbconvert_exporter": "python",
   "pygments_lexer": "ipython3",
   "version": "3.9.12"
  }
 },
 "nbformat": 4,
 "nbformat_minor": 5
}
